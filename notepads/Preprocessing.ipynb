{
 "cells": [
  {
   "cell_type": "code",
   "execution_count": 3,
   "metadata": {},
   "outputs": [],
   "source": [
    "# Imports\n",
    "import numpy as np\n",
    "import pandas as pd\n",
    "from pandas import ExcelFile\n",
    "from sklearn import preprocessing\n",
    "import matplotlib.pyplot as plt\n",
    "import warnings\n",
    "import seaborn as sns\n",
    "from os import listdir\n",
    "from os.path import isfile, join\n"
   ]
  },
  {
   "cell_type": "markdown",
   "metadata": {},
   "source": [
    "Function of the file parser: The useful data is extracted and analyzed and then shown to the user.\n"
   ]
  },
  {
   "cell_type": "code",
   "execution_count": 1,
   "metadata": {},
   "outputs": [],
   "source": [
    "def file_parser(show_results):\n",
    "    '''file_parser parses the data set files. The useful data is extracted and analyzed\n",
    "    and then shown to the user\n",
    "\n",
    "    Input: integer\n",
    "        0: just gives the list output features and target\n",
    "        1: plots missing students in the final\n",
    "        2: plots missing students in the sessions\n",
    "        3: outputs an analysis of the students\n",
    "\n",
    "    Output: list\n",
    "        feature and target data\n",
    "    '''\n",
    "    # Preprocessing\n",
    "    warnings.filterwarnings('ignore', category=UserWarning, module='openpyxl')\n",
    "    names = ['session', 'student_Id', 'exercise', 'activity', 'start_time', 'end_time', 'idle_time',\n",
    "             'mouse_wheel', 'mouse_wheel_click', 'moue_click_left', 'mouse_click_right', 'mouse_mouvement', 'keystroke']\n",
    "    mean_std_labels = ['mean_idle', 'mean_m_weehl', 'mean_m_wheel_click', 'mean_clik_left', 'mean_click_right', 'mean_m_mouvement',\n",
    "                       'mean_keystroke', 'std_idle', 'std_m_weehl', 'std_m_wheel_click', 'std_clik_left', 'std_click_right', 'std_mouvement', 'std_keystroke']\n",
    "    numberofstudents = 115\n",
    "    numberofsessions = 6\n",
    "    Maximum = float('-inf')\n",
    "    MaxId = \"\"\n",
    "    Minimum = float('inf')\n",
    "    MinId = \"\"\n",
    "    scaled = []\n",
    "    files_per_session = []  \n",
    "    input = [[[0 for i in range(len(mean_std_labels))]for j in range(\n",
    "        numberofsessions)]for k in range(numberofstudents)]\n",
    "    unscaled = [[0 for i in range(len(mean_std_labels))]\n",
    "                for j in range(numberofstudents)]\n",
    "    scaler = preprocessing.MinMaxScaler()\n",
    "    target_data = pd.read_excel('../dataset/final_grades_transformed.xlsx',\n",
    "                                engine='openpyxl', sheet_name='Exam (Second time)')\n",
    "    id_list = target_data['StudentID'].values\n",
    "    # Binarize Target\n",
    "    # 1 if greater than 50, 0 otherwise\n",
    "    target_data['TOTAL'] = (target_data['TOTAL'] >= 50.0).astype(int)\n",
    "    target = target_data['TOTAL'].values\n",
    "    plotx = [[False for i in range(numberofstudents)]\n",
    "             for j in range(numberofsessions)]\n",
    "    ploty = [[False for i in range(numberofstudents)]\n",
    "             for j in range(numberofsessions)]\n",
    "    for session in range(numberofsessions):\n",
    "        path = \"../Data/Processes/Session \"+str(session+1)\n",
    "        files = [f for f in listdir(path) if (\n",
    "            isfile(join(path, f)) and f != '.gitkeep')]\n",
    "        files_per_session.append(len(files))\n",
    "        for f in files:\n",
    "            data = pd.read_csv(join(path, f), sep=',', names=names)\n",
    "            data = data.iloc[:, 6:]\n",
    "            if data.shape[0] > Maximum:\n",
    "                Maximum = data.shape[0]\n",
    "                MaxId = \"Student ID: \"+f, \"Session: \"+str(session)\n",
    "            if data.shape[0] < Minimum:\n",
    "                Minimum = data.shape[0]\n",
    "                MinId = \"Student ID: \"+f, \"Session: \"+str(session)\n",
    "            mean_data = data.mean(axis=0)\n",
    "            std_data = data.std(axis=0)\n",
    "            mean_std = pd.concat([mean_data, std_data], axis=0)\n",
    "            unscaled[int(f)-1] = (mean_std.values.reshape(-1))\n",
    "            plotx[session][int(f)-1] = True\n",
    "            ploty[session][int(f)-1] = int(f)in id_list\n",
    "        scaled.append(scaler.fit_transform(unscaled))\n",
    "\n",
    "    Minimum = int(Minimum)\n",
    "    Maximum = int(Maximum)\n",
    "\n",
    "    selected = [[[0 for i in range(len(mean_std_labels))]for j in range(\n",
    "        numberofsessions)]for k in range(len(id_list))]\n",
    "    i = 0\n",
    "    for student in id_list:\n",
    "        for session in range(numberofsessions):\n",
    "            input[student-1][session] = scaled[session][student-1]\n",
    "            selected[i][session] = scaled[session][student-1]\n",
    "        i += 1\n",
    "\n",
    "\n",
    "    if show_results == 1:\n",
    "        datax = np.array(ploty)\n",
    "        sns.heatmap(datax,yticklabels=False)\n",
    "\n",
    "        plt.title('Heatmap of Absent Students in the Final Exam',\n",
    "                fontsize=14)  # title with fontsize 20\n",
    "        plt.xlabel('Student ID', fontsize=12)  # x-axis label with fontsize 15\n",
    "        plt.ylabel('Final Exam', fontsize=12)\n",
    "    elif show_results == 2:\n",
    "        datax = np.array(plotx)\n",
    "        sns.heatmap(datax)\n",
    "        plt.title('Heatmap of Absent Students per Session',\n",
    "                fontsize=14)  # title with fontsize 20\n",
    "        plt.xlabel('Student ID', fontsize=12)  # x-axis label with fontsize 15\n",
    "        plt.ylabel('Session', fontsize=12)\n",
    "    elif show_results == 3:\n",
    "\n",
    "        print(Minimum, MinId)\n",
    "        print(Maximum, MaxId)\n",
    "        plt.title('Number of Attending Students per Session',\n",
    "                  fontsize=14)  # title with fontsize 20\n",
    "        plt.xlabel('Session', fontsize=12)  # x-axis label with fontsize 15\n",
    "        plt.ylabel('Number of Students', fontsize=12)\n",
    "        plt.bar(range(1, 7), files_per_session)\n",
    "    \n",
    "    return selected, target\n"
   ]
  },
  {
   "cell_type": "code",
   "execution_count": 4,
   "metadata": {},
   "outputs": [],
   "source": [
    "[features, target] = file_parser(0)"
   ]
  },
  {
   "cell_type": "code",
   "execution_count": 5,
   "metadata": {},
   "outputs": [
    {
     "data": {
      "image/png": "[encoded data removed]",
      "text/plain": [
       "<Figure size 432x288 with 2 Axes>"
      ]
     },
     "metadata": {
      "needs_background": "light"
     },
     "output_type": "display_data"
    }
   ],
   "source": [
    "[features, target] = file_parser(1)\n"
   ]
  },
  {
   "cell_type": "code",
   "execution_count": 6,
   "metadata": {},
   "outputs": [
    {
     "data": {
      "image/png": "[encoded data removed]",
      "text/plain": [
       "<Figure size 432x288 with 2 Axes>"
      ]
     },
     "metadata": {
      "needs_background": "light"
     },
     "output_type": "display_data"
    }
   ],
   "source": [
    "[features, target] = file_parser(2)\n"
   ]
  },
  {
   "cell_type": "code",
   "execution_count": 7,
   "metadata": {},
   "outputs": [
    {
     "name": "stdout",
     "output_type": "stream",
     "text": [
      "87 ('Student ID: 98', 'Session: 1')\n",
      "1087 ('Student ID: 32', 'Session: 5')\n"
     ]
    },
    {
     "data": {
      "image/png": "[encoded data removed]",
      "text/plain": [
       "<Figure size 432x288 with 1 Axes>"
      ]
     },
     "metadata": {
      "needs_background": "light"
     },
     "output_type": "display_data"
    }
   ],
   "source": [
    "[features, target] = file_parser(3)\n"
   ]
  }
 ],
 "metadata": {
  "interpreter": {
   "hash": "1f1d1b06d70d3b898c094236767d132bd08a28fd25d583b86b0787f85aad3533"
  },
  "kernelspec": {
   "display_name": "Python 3.9.12 64-bit (windows store)",
   "language": "python",
   "name": "python3"
  },
  "language_info": {
   "codemirror_mode": {
    "name": "ipython",
    "version": 3
   },
   "file_extension": ".py",
   "mimetype": "text/x-python",
   "name": "python",
   "nbconvert_exporter": "python",
   "pygments_lexer": "ipython3",
   "version": "3.9.12"
  },
  "orig_nbformat": 4
 },
 "nbformat": 4,
 "nbformat_minor": 2
}
