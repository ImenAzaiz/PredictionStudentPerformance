{
 "cells": [
  {
   "cell_type": "code",
   "execution_count": 14,
   "metadata": {},
   "outputs": [],
   "source": [
    "# Imports\n",
    "import numpy as np\n",
    "import pandas as pd\n",
    "from sklearn import preprocessing\n",
    "import matplotlib.pyplot as plt\n",
    "import warnings\n",
    "\n",
    "import torch.nn as nn\n",
    "import torch \n",
    "import torch.optim as optim\n",
    "import torch.utils.data as data_utils\n",
    "from torchsummary import summary"
   ]
  },
  {
   "cell_type": "code",
   "execution_count": 2,
   "metadata": {},
   "outputs": [
    {
     "name": "stdout",
     "output_type": "stream",
     "text": [
      "1\n"
     ]
    }
   ],
   "source": [
    "from os import listdir\n",
    "from os.path import isfile, join\n",
    "from pandas import ExcelFile\n",
    "#Preprocessing\n",
    "warnings.filterwarnings('ignore', category=UserWarning, module='openpyxl')\n",
    "names=['session','student_Id', 'exercise', 'activity', 'start_time', 'end_time', 'idle_time', 'mouse_wheel','mouse_wheel_click','moue_click_left','mouse_click_right','mouse_mouvement','keystroke']\n",
    "mean_std_labels=['mean_idle', 'mean_m_weehl','mean_m_wheel_click','mean_clik_left','mean_click_right', 'mean_m_mouvement','mean_keystroke','std_idle', 'std_m_weehl','std_m_wheel_click','std_clik_left','std_click_right', 'std_mouvement','std_keystroke']\n",
    "numberofstudents=115\n",
    "numberofsessions=6\n",
    "scaled = []\n",
    "input = [[[0 for i in range(len(mean_std_labels))]for j in range(numberofsessions)]for k in range(numberofstudents)]\n",
    "unscaled = [[0 for i in range(len(mean_std_labels))]for j in range(numberofstudents)]\n",
    "scaler = preprocessing.MinMaxScaler()\n",
    "for session in range(numberofsessions):\n",
    "    path = \"../Data/Processes/Session \"+str(session+1)\n",
    "    files = [f for f in listdir(path) if isfile(join(path, f))]\n",
    "    for f in files:\n",
    "        data = pd.read_csv(join(path, f), sep = ',', names=names)\n",
    "        data = data.iloc[:,6:]\n",
    "        mean_data = data.mean(axis=0)\n",
    "        std_data = data.std(axis=0)\n",
    "        mean_std = pd.concat([mean_data,std_data],axis=0)\n",
    "        unscaled[int(f)-1]=(mean_std.values.reshape(-1))\n",
    "    scaled.append(scaler.fit_transform(unscaled))\n",
    "\n",
    "\n",
    "target_data = pd.read_excel('../dataset/final_grades_transformed.xlsx', engine='openpyxl', sheet_name='Exam (Second time)')\n",
    "id_list=target_data['StudentID'].values\n",
    "selected = [[[0 for i in range(len(mean_std_labels))]for j in range(numberofsessions)]for k in range(len(id_list))]\n",
    "i=0\n",
    "for student in id_list:\n",
    "    for session in range(numberofsessions):\n",
    "        input[student-1][session] = scaled[session][student-1]\n",
    "        selected[i][session] = scaled[session][student-1]\n",
    "    i+=1\n",
    "#print(selected[0])\n",
    "\n",
    "#Binarize Target\n",
    "\n",
    "# 1 if greater than 50, 0 otherwise\n",
    "target_data['TOTAL'] = (target_data['TOTAL'] >= 50.0).astype(int)\n",
    "reduced_target=target_data[['StudentID','TOTAL']]\n",
    "#reduced_target.to_csv('../dataset/target1.csv', index=False, sep = ',')\n",
    "\n",
    "target=target_data['TOTAL'].values\n",
    "\n",
    "print(target[0])"
   ]
  },
  {
   "cell_type": "code",
   "execution_count": 29,
   "metadata": {},
   "outputs": [
    {
     "data": {
      "text/html": [
       "<div>\n",
       "<style scoped>\n",
       "    .dataframe tbody tr th:only-of-type {\n",
       "        vertical-align: middle;\n",
       "    }\n",
       "\n",
       "    .dataframe tbody tr th {\n",
       "        vertical-align: top;\n",
       "    }\n",
       "\n",
       "    .dataframe thead th {\n",
       "        text-align: right;\n",
       "    }\n",
       "</style>\n",
       "<table border=\"1\" class=\"dataframe\">\n",
       "  <thead>\n",
       "    <tr style=\"text-align: right;\">\n",
       "      <th></th>\n",
       "      <th>0</th>\n",
       "      <th>1</th>\n",
       "      <th>2</th>\n",
       "      <th>3</th>\n",
       "      <th>4</th>\n",
       "      <th>5</th>\n",
       "    </tr>\n",
       "  </thead>\n",
       "  <tbody>\n",
       "    <tr>\n",
       "      <th>57</th>\n",
       "      <td>[0.41688381084455484, 0.07660046056419115, 0.0...</td>\n",
       "      <td>[0.05388974991640218, 0.0, 0.0, 0.587440514569...</td>\n",
       "      <td>[0.15134879326882233, 0.32844619755692767, 0.0...</td>\n",
       "      <td>[0.34893085904651916, 0.6748984779284434, 0.0,...</td>\n",
       "      <td>[0.9999824918999574, 0.0, 0.0, 0.5386267294507...</td>\n",
       "      <td>[0.005435337843407601, 0.0, 0.0, 0.55563325105...</td>\n",
       "    </tr>\n",
       "    <tr>\n",
       "      <th>58</th>\n",
       "      <td>[0.05933235460134469, 0.061685046941123575, 0....</td>\n",
       "      <td>[0.040000715259110156, 0.0, 0.0, 0.00026526281...</td>\n",
       "      <td>[0.05812972256205163, 0.2471574905441293, 0.09...</td>\n",
       "      <td>[0.1335677724691691, 0.5078646530774191, 0.113...</td>\n",
       "      <td>[0.9999828570253422, 0.0864441816743371, 0.0, ...</td>\n",
       "      <td>[0.015910951826205437, 0.08251844882838916, 0....</td>\n",
       "    </tr>\n",
       "    <tr>\n",
       "      <th>59</th>\n",
       "      <td>[0.0, 0.0, 0.0, 0.0, 0.0, 0.0, 0.0, 0.0, 0.0, ...</td>\n",
       "      <td>[0.15772917128457067, 0.08354046389310874, 0.0...</td>\n",
       "      <td>[0.027980221835412832, 0.1428909221466388, 0.0...</td>\n",
       "      <td>[0.06391368252785647, 0.29361541276434894, 0.0...</td>\n",
       "      <td>[0.9999826299524787, 0.022217555839020926, 0.0...</td>\n",
       "      <td>[0.013277545672833754, 0.07488608443429125, 0....</td>\n",
       "    </tr>\n",
       "    <tr>\n",
       "      <th>60</th>\n",
       "      <td>[0.22837787505946677, 0.0, 0.0, 0.497719869706...</td>\n",
       "      <td>[0.14019497316527677, 0.04212248800308887, 0.0...</td>\n",
       "      <td>[0.024869758824111167, 0.0720479738007368, 0.0...</td>\n",
       "      <td>[0.05672761094701254, 0.14804576279960657, 0.0...</td>\n",
       "      <td>[0.9999824815743978, 0.08223475851317903, 0.0,...</td>\n",
       "      <td>[0.0024085270537617547, 0.11688898062385511, 0...</td>\n",
       "    </tr>\n",
       "    <tr>\n",
       "      <th>61</th>\n",
       "      <td>[0.0, 0.0, 0.0, 0.0, 0.0, 0.0, 0.0, 0.0, 0.0, ...</td>\n",
       "      <td>[0.0, 0.0, 0.0, 0.0, 0.0, 0.0, 0.0, 0.0, 0.0, ...</td>\n",
       "      <td>[0.05589637622698335, 0.20836548638286578, 0.3...</td>\n",
       "      <td>[0.1284080947715713, 0.42815398886827455, 0.36...</td>\n",
       "      <td>[0.9999846322475521, 0.1267164282493799, 0.118...</td>\n",
       "      <td>[0.12701986598996712, 0.42710805877344615, 0.0...</td>\n",
       "    </tr>\n",
       "  </tbody>\n",
       "</table>\n",
       "</div>"
      ],
      "text/plain": [
       "                                                    0  \\\n",
       "57  [0.41688381084455484, 0.07660046056419115, 0.0...   \n",
       "58  [0.05933235460134469, 0.061685046941123575, 0....   \n",
       "59  [0.0, 0.0, 0.0, 0.0, 0.0, 0.0, 0.0, 0.0, 0.0, ...   \n",
       "60  [0.22837787505946677, 0.0, 0.0, 0.497719869706...   \n",
       "61  [0.0, 0.0, 0.0, 0.0, 0.0, 0.0, 0.0, 0.0, 0.0, ...   \n",
       "\n",
       "                                                    1  \\\n",
       "57  [0.05388974991640218, 0.0, 0.0, 0.587440514569...   \n",
       "58  [0.040000715259110156, 0.0, 0.0, 0.00026526281...   \n",
       "59  [0.15772917128457067, 0.08354046389310874, 0.0...   \n",
       "60  [0.14019497316527677, 0.04212248800308887, 0.0...   \n",
       "61  [0.0, 0.0, 0.0, 0.0, 0.0, 0.0, 0.0, 0.0, 0.0, ...   \n",
       "\n",
       "                                                    2  \\\n",
       "57  [0.15134879326882233, 0.32844619755692767, 0.0...   \n",
       "58  [0.05812972256205163, 0.2471574905441293, 0.09...   \n",
       "59  [0.027980221835412832, 0.1428909221466388, 0.0...   \n",
       "60  [0.024869758824111167, 0.0720479738007368, 0.0...   \n",
       "61  [0.05589637622698335, 0.20836548638286578, 0.3...   \n",
       "\n",
       "                                                    3  \\\n",
       "57  [0.34893085904651916, 0.6748984779284434, 0.0,...   \n",
       "58  [0.1335677724691691, 0.5078646530774191, 0.113...   \n",
       "59  [0.06391368252785647, 0.29361541276434894, 0.0...   \n",
       "60  [0.05672761094701254, 0.14804576279960657, 0.0...   \n",
       "61  [0.1284080947715713, 0.42815398886827455, 0.36...   \n",
       "\n",
       "                                                    4  \\\n",
       "57  [0.9999824918999574, 0.0, 0.0, 0.5386267294507...   \n",
       "58  [0.9999828570253422, 0.0864441816743371, 0.0, ...   \n",
       "59  [0.9999826299524787, 0.022217555839020926, 0.0...   \n",
       "60  [0.9999824815743978, 0.08223475851317903, 0.0,...   \n",
       "61  [0.9999846322475521, 0.1267164282493799, 0.118...   \n",
       "\n",
       "                                                    5  \n",
       "57  [0.005435337843407601, 0.0, 0.0, 0.55563325105...  \n",
       "58  [0.015910951826205437, 0.08251844882838916, 0....  \n",
       "59  [0.013277545672833754, 0.07488608443429125, 0....  \n",
       "60  [0.0024085270537617547, 0.11688898062385511, 0...  \n",
       "61  [0.12701986598996712, 0.42710805877344615, 0.0...  "
      ]
     },
     "execution_count": 29,
     "metadata": {},
     "output_type": "execute_result"
    }
   ],
   "source": [
    "#save redesigned Dataset\n",
    "mydata=pd.DataFrame(selected)\n",
    "#mydata.to_csv('../dataset/mydata.csv', index=False, sep = ',')\n",
    "mydata.tail()"
   ]
  },
  {
   "cell_type": "code",
   "execution_count": 3,
   "metadata": {},
   "outputs": [],
   "source": [
    "X = selected #input\n",
    "\n",
    "Y= target #reduced_target['TOTAL'].values\n",
    "\n",
    "\n",
    "#Training data\n",
    "X_train = X[0:30]\n",
    "Y_train = Y[0:30]\n",
    "x_train = torch.FloatTensor(np.array(X_train))\n",
    "y_train = torch.LongTensor(Y_train)\n",
    "\n",
    "#Test data\n",
    "X_test  = X[30:]\n",
    "Y_test = Y[30:]\n",
    "x_test = torch.FloatTensor(np.array(X_test))\n",
    "y_test = torch.LongTensor(Y_test)\n",
    "\n",
    "#Validation data\n",
    "X_val  = x_test[40:]\n",
    "Y_val = y_test[40:]\n",
    "x_val = torch.FloatTensor(np.array(X_test))\n",
    "y_val = torch.LongTensor(Y_test)\n"
   ]
  },
  {
   "cell_type": "code",
   "execution_count": 13,
   "metadata": {},
   "outputs": [
    {
     "data": {
      "image/png": "[encoded data removed]",
      "text/plain": [
       "<Figure size 432x288 with 1 Axes>"
      ]
     },
     "metadata": {
      "needs_background": "light"
     },
     "output_type": "display_data"
    },
    {
     "data": {
      "image/png": "[encoded data removed]",
      "text/plain": [
       "<Figure size 432x288 with 1 Axes>"
      ]
     },
     "metadata": {
      "needs_background": "light"
     },
     "output_type": "display_data"
    }
   ],
   "source": [
    "#Hyperparmeters\n",
    "EPOCHS = 400\n",
    "IN_SIZE = 14\n",
    "NUM_SAMPLES = 50\n",
    "torch.manual_seed(0)\n",
    "\n",
    "\n",
    "\n",
    "\n",
    "class LSTM_Predictor(nn.Module):\n",
    "\tdef __init__(self):\n",
    "\t\tsuper(LSTM_Predictor, self).__init__()\n",
    "\n",
    "\t\tself.lstm = nn.LSTM(\n",
    "\t\t\tinput_size=14,\n",
    "\t\t\thidden_size=NUM_SAMPLES+1,\n",
    "\t\t\tnum_layers=2,\n",
    "\t\t\tbatch_first=True,\n",
    "\t\t)\n",
    "\n",
    "\tdef forward(self, x):\n",
    "\t\tout, (h_n, h_c) = self.lstm(x, None)\n",
    "\t\treturn out[:, -1, :]\t# Return output at last time-step\n",
    "\n",
    "\n",
    "\n",
    "lstm = LSTM_Predictor()\n",
    "optimizer = torch.optim.Adam(lstm.parameters(), lr=0.00001)\n",
    "loss_func = nn.CrossEntropyLoss()     \n",
    "loss_list = []\n",
    "accuracy_list=[]\n",
    "num_correct = 0\n",
    "num_samples = 0\n",
    "accuracy = 0\n",
    "lstm.train()\n",
    "\n",
    "for j in range(EPOCHS):\n",
    "\toptimizer.zero_grad()\n",
    "\tfor i, item in enumerate(x_train):\n",
    "\t\titem = item.unsqueeze(0)\n",
    "\t\toutput = lstm(item)\n",
    "\t\t#print(output.shape)\n",
    "\t\tloss = loss_func(output, y_train[i].view(1))\n",
    "\t\tloss_list.append(loss.item())\n",
    "\t\t_, predictions = output.max(1)\n",
    "\t\tnum_correct += (predictions == y_train[i]).sum()\n",
    "\t\tnum_samples += predictions.size(0)\n",
    "\t\tloss.backward()\n",
    "\t\toptimizer.step()\n",
    "\t\taccuracy = num_correct / num_samples\n",
    "\t\taccuracy_list.append(accuracy.item())\n",
    "\t\n",
    "\t#if j % 5 == 0:\n",
    "\t\t#print('Loss: ', np.average(loss.detach()))\n",
    "\n",
    "\n",
    "\n",
    "plt.plot(loss_list)\n",
    "plt.title('Decrease of Loss over Backpropagation Iteration')\n",
    "plt.xlabel('Mini Batch Iteration')\n",
    "plt.ylabel('Loss')\n",
    "plt.show()\n",
    "plt.plot(accuracy_list, color='orange')\n",
    "plt.title('Accuracy over Iteration')\n",
    "plt.xlabel('Mini Batch Iteration')\n",
    "plt.ylabel('Accuracy')\n",
    "plt.show()"
   ]
  },
  {
   "cell_type": "code",
   "execution_count": 6,
   "metadata": {},
   "outputs": [
    {
     "name": "stdout",
     "output_type": "stream",
     "text": [
      "Accuracy on training set: 35.150002\n"
     ]
    }
   ],
   "source": [
    "print(f\"Accuracy on training set: {accuracy*100:2f}\")"
   ]
  },
  {
   "cell_type": "code",
   "execution_count": 11,
   "metadata": {},
   "outputs": [
    {
     "name": "stdout",
     "output_type": "stream",
     "text": [
      "Accuracy on test set: 53.125000\n",
      "Accuracy on train set: 36.67\n"
     ]
    }
   ],
   "source": [
    "\n",
    "loss_test=[]\n",
    "# Check accuracy on training & test to see how good our model\n",
    "def check_accuracy(feature,target, model):\n",
    "    num_correct = 0\n",
    "    num_samples = 0\n",
    "\n",
    "    # Set model to eval\n",
    "    model.eval()\n",
    "\n",
    "    with torch.no_grad():\n",
    "        for i, item in enumerate(feature):\n",
    "            item = item.unsqueeze(0)\n",
    "            output = lstm(item)\n",
    "            loss = loss_func(output, target[i].view(1))\n",
    "            loss_test.append(loss.item())\n",
    "            _, predictions = output.max(1)\n",
    "            num_correct += (predictions == target[i]).sum()\n",
    "            num_samples += predictions.size(0)\n",
    "\t\t\n",
    "        return num_correct / num_samples\n",
    "\n",
    "\n",
    "print(f\"Accuracy on test set: {check_accuracy(x_test,y_test, lstm)*100:2f}\")\n",
    "print(f\"Accuracy on train set: {check_accuracy(x_train, y_train, lstm)*100:.2f}\")"
   ]
  },
  {
   "cell_type": "code",
   "execution_count": 10,
   "metadata": {},
   "outputs": [
    {
     "name": "stdout",
     "output_type": "stream",
     "text": [
      "Evaluate Testing Set:\n",
      "========\n",
      "F1-Score =  0.53\n",
      "Predicted Class: tensor([1, 1, 1, 1, 1, 1, 1, 1, 1, 1, 1, 1, 1, 1, 1, 1, 1, 1, 1, 1, 1, 1, 1, 1,\n",
      "        1, 1, 1, 1, 1, 1, 1, 1])\n",
      "Actual Calss:  tensor([0, 1, 0, 0, 0, 0, 1, 0, 0, 1, 1, 0, 1, 1, 0, 1, 1, 1, 1, 0, 1, 1, 1, 0,\n",
      "        1, 1, 0, 0, 0, 0, 1, 1])\n"
     ]
    }
   ],
   "source": [
    "predicted=[]\n",
    "lstm.eval()\n",
    "print('Evaluate Testing Set:\\n========')\n",
    "for i, item in enumerate(x_test):\n",
    "\n",
    "\toutp = lstm(item.unsqueeze(0))\n",
    "\tpredicted.append(np.argmax(outp.detach()))\n",
    "\n",
    "\n",
    "from torchmetrics.functional import f1_score\n",
    "target = y_test\n",
    "preds = torch.tensor(predicted,dtype=torch.long)\n",
    "fa_scor=f1_score(preds, target, num_classes=2)\n",
    "print(f\"F1-Score =  {fa_scor:.2f}\")\n",
    "\n",
    "print(f\"Predicted Class: {preds}\")\n",
    "print(f\"Actual Calss:  {target}\")"
   ]
  },
  {
   "cell_type": "code",
   "execution_count": 20,
   "metadata": {},
   "outputs": [
    {
     "name": "stdout",
     "output_type": "stream",
     "text": [
      "LSTM(\n",
      "  (lstm): LSTM(14, 51, num_layers=2, batch_first=True)\n",
      ")\n",
      "8\n",
      "torch.Size([204, 14])\n",
      "torch.Size([204, 51])\n",
      "torch.Size([204])\n",
      "torch.Size([204])\n",
      "torch.Size([204, 51])\n",
      "torch.Size([204, 51])\n",
      "torch.Size([204])\n",
      "torch.Size([204])\n"
     ]
    }
   ],
   "source": [
    "# JUST PRINTING MODEL & PARAMETERS \n",
    "print(lstm)\n",
    "\n",
    "print(len(list(lstm.parameters())))\n",
    "for i in range(len(list(lstm.parameters()))):\n",
    "    print(list(lstm.parameters())[i].size())"
   ]
  }
 ],
 "metadata": {
  "interpreter": {
   "hash": "1f1d1b06d70d3b898c094236767d132bd08a28fd25d583b86b0787f85aad3533"
  },
  "kernelspec": {
   "display_name": "Python 3.9.12 64-bit (windows store)",
   "language": "python",
   "name": "python3"
  },
  "language_info": {
   "codemirror_mode": {
    "name": "ipython",
    "version": 3
   },
   "file_extension": ".py",
   "mimetype": "text/x-python",
   "name": "python",
   "nbconvert_exporter": "python",
   "pygments_lexer": "ipython3",
   "version": "3.9.12"
  },
  "orig_nbformat": 4
 },
 "nbformat": 4,
 "nbformat_minor": 2
}
